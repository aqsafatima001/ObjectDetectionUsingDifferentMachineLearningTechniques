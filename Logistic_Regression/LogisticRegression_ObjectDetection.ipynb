{
  "cells": [
    {
      "cell_type": "markdown",
      "source": [
        "## **Import Libraries**"
      ],
      "metadata": {
        "id": "lc-XLFxuWYdc"
      }
    },
    {
      "cell_type": "code",
      "source": [
        "import numpy as np\n",
        "from tensorflow.keras import datasets\n",
        "from sklearn.linear_model import LogisticRegression\n",
        "from sklearn.model_selection import GridSearchCV\n",
        "from sklearn.preprocessing import StandardScaler\n",
        "from sklearn.pipeline import make_pipeline"
      ],
      "metadata": {
        "id": "Ror7YOLoWL_B"
      },
      "execution_count": null,
      "outputs": []
    },
    {
      "cell_type": "markdown",
      "source": [
        "## **LOAD CIFAR 10 DATASET**"
      ],
      "metadata": {
        "id": "fQqUrLqnWdg1"
      }
    },
    {
      "cell_type": "code",
      "source": [
        "# Load CIFAR-10 dataset\n",
        "(X_train, y_train), (X_test, y_test) = datasets.cifar10.load_data()"
      ],
      "metadata": {
        "id": "PZ2bnTHQWNfg"
      },
      "execution_count": null,
      "outputs": []
    },
    {
      "cell_type": "markdown",
      "source": [
        "## **Flatten the images for logistic regression**\n"
      ],
      "metadata": {
        "id": "K6cxlsa-Whm5"
      }
    },
    {
      "cell_type": "code",
      "source": [
        "# Flatten the images for logistic regression\n",
        "X_train_flat = X_train.reshape((X_train.shape[0], -1))\n",
        "X_test_flat = X_test.reshape((X_test.shape[0], -1))\n",
        "y_train_flat = y_train.ravel()\n",
        "y_test_flat = y_test.ravel()"
      ],
      "metadata": {
        "id": "uznAjSE2WOoH"
      },
      "execution_count": null,
      "outputs": []
    },
    {
      "cell_type": "markdown",
      "source": [
        "## **Define a logistic regression model with a grid search for hyperparameters**"
      ],
      "metadata": {
        "id": "hry3UoH4WsPB"
      }
    },
    {
      "cell_type": "code",
      "source": [
        "parameters = {\n",
        "    'logisticregression__C': [0.01],\n",
        "    'logisticregression__max_iter': [100]\n",
        "}"
      ],
      "metadata": {
        "id": "P0QwL47iWQPC"
      },
      "execution_count": null,
      "outputs": []
    },
    {
      "cell_type": "markdown",
      "source": [
        "## **Create a pipeline that includes scaling and logistic regressio**n"
      ],
      "metadata": {
        "id": "IyYESj7VWuI6"
      }
    },
    {
      "cell_type": "code",
      "source": [
        "pipeline = make_pipeline(StandardScaler(), LogisticRegression())"
      ],
      "metadata": {
        "id": "6-w9dbHtWSGu"
      },
      "execution_count": null,
      "outputs": []
    },
    {
      "cell_type": "markdown",
      "source": [
        "## **Apply grid search with cross-validation**"
      ],
      "metadata": {
        "id": "Hct99ay_Wx7g"
      }
    },
    {
      "cell_type": "code",
      "source": [
        "grid_search = GridSearchCV(pipeline, parameters, n_jobs=-1, cv=3)"
      ],
      "metadata": {
        "id": "9-7KF09CWTVn"
      },
      "execution_count": null,
      "outputs": []
    },
    {
      "cell_type": "markdown",
      "source": [
        "## **Train the model using grid search**"
      ],
      "metadata": {
        "id": "nUoGNegUW0h3"
      }
    },
    {
      "cell_type": "code",
      "source": [
        "grid_search.fit(X_train_flat, y_train_flat)"
      ],
      "metadata": {
        "id": "vxdLULTAWU1T"
      },
      "execution_count": null,
      "outputs": []
    },
    {
      "cell_type": "markdown",
      "source": [
        "## **Best parameters and accuracy**"
      ],
      "metadata": {
        "id": "dnlZPBS7W3qp"
      }
    },
    {
      "cell_type": "code",
      "source": [
        "best_params = grid_search.best_params_\n",
        "best_score = grid_search.best_score_"
      ],
      "metadata": {
        "id": "nxIGvQYtWWFa"
      },
      "execution_count": null,
      "outputs": []
    },
    {
      "cell_type": "code",
      "execution_count": null,
      "metadata": {
        "colab": {
          "background_save": true
        },
        "id": "u8ohZswjdJvN",
        "outputId": "1a6883ca-3fc0-4d95-ad68-d30adefda18f"
      },
      "outputs": [
        {
          "name": "stdout",
          "output_type": "stream",
          "text": [
            "Best Parameters: {'logisticregression__C': 0.01, 'logisticregression__max_iter': 100}\n",
            "Best Accuracy: 0.39589995671585426\n"
          ]
        },
        {
          "name": "stderr",
          "output_type": "stream",
          "text": [
            "/usr/local/lib/python3.10/dist-packages/sklearn/linear_model/_logistic.py:458: ConvergenceWarning: lbfgs failed to converge (status=1):\n",
            "STOP: TOTAL NO. of ITERATIONS REACHED LIMIT.\n",
            "\n",
            "Increase the number of iterations (max_iter) or scale the data as shown in:\n",
            "    https://scikit-learn.org/stable/modules/preprocessing.html\n",
            "Please also refer to the documentation for alternative solver options:\n",
            "    https://scikit-learn.org/stable/modules/linear_model.html#logistic-regression\n",
            "  n_iter_i = _check_optimize_result(\n"
          ]
        }
      ],
      "source": [
        "print(f\"Best Parameters: {best_params}\")\n",
        "print(f\"Best Accuracy: {best_score}\")\n",
        "\n",
        "\n"
      ]
    }
  ],
  "metadata": {
    "colab": {
      "provenance": []
    },
    "kernelspec": {
      "display_name": "Python 3",
      "name": "python3"
    },
    "language_info": {
      "name": "python"
    }
  },
  "nbformat": 4,
  "nbformat_minor": 0
}